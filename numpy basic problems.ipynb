{
 "cells": [
  {
   "cell_type": "code",
   "execution_count": 1,
   "id": "2b689af3",
   "metadata": {},
   "outputs": [],
   "source": [
    "import numpy"
   ]
  },
  {
   "cell_type": "code",
   "execution_count": 2,
   "id": "0e3709ea",
   "metadata": {},
   "outputs": [
    {
     "name": "stdout",
     "output_type": "stream",
     "text": [
      "original_list: [12.23, 13.32, 100, 36.32]\n",
      "one-D numpy array: [ 12.23  13.32 100.    36.32]\n"
     ]
    }
   ],
   "source": [
    "# 1. Write a Python program to convert a list of numeric value into a one-dimensional NumPy array. \n",
    "\n",
    "original_list = [12.23, 13.32, 100, 36.32]\n",
    "numpy_arr = numpy.array(original_list)          \n",
    "print(\"original_list:\", original_list)\n",
    "print(\"one-D numpy array:\", numpy_arr)"
   ]
  },
  {
   "cell_type": "code",
   "execution_count": 4,
   "id": "faa8fcf4",
   "metadata": {},
   "outputs": [
    {
     "name": "stdout",
     "output_type": "stream",
     "text": [
      "3*3 matrix: \n",
      " [[ 2  3  4]\n",
      " [ 5  6  7]\n",
      " [ 8  9 10]]\n"
     ]
    }
   ],
   "source": [
    "# 2. Create a 3x3 matrix with values ranging from 2 to 10.\n",
    "\n",
    "value = numpy.arange(2, 11).reshape(3,3)        \n",
    "print(\"3*3 matrix: \\n\",value)"
   ]
  },
  {
   "cell_type": "code",
   "execution_count": 6,
   "id": "9d790f18",
   "metadata": {},
   "outputs": [
    {
     "name": "stdout",
     "output_type": "stream",
     "text": [
      "[0. 0. 0. 0. 0. 0. 0. 0. 0. 0.]\n",
      "After updating: [0. 0. 0. 0. 0. 0. 1. 0. 0. 0.]\n"
     ]
    }
   ],
   "source": [
    "# 3. Write a Python program to create a null vector of size 10 and update sixth value to 11.\n",
    "\n",
    "arr = numpy.zeros(10)\n",
    "print(arr)\n",
    "arr[6] = 1                                      \n",
    "print(\"After updating:\",arr)"
   ]
  },
  {
   "cell_type": "code",
   "execution_count": 7,
   "id": "45af2963",
   "metadata": {},
   "outputs": [
    {
     "name": "stdout",
     "output_type": "stream",
     "text": [
      "Original array: [12 13 14 15 16 17 18 19 20 21 22 23 24 25 26 27 28 29 30 31 32 33 34 35\n",
      " 36 37]\n",
      "Reversed array: [37 36 35 34 33 32 31 30 29 28 27 26 25 24 23 22 21 20 19 18 17 16 15 14\n",
      " 13 12]\n"
     ]
    }
   ],
   "source": [
    "# 4. Write a Python program to reverse an array (first element becomes last). \n",
    "\n",
    "org_list = [12,13,14,15,16,17,18,19,20,21,22,23,24,25,26,27,28,29,30,31,32,33,34,35,36,37]\n",
    "org_arr = numpy.array(org_list)\n",
    "rev_arr = org_arr[::-1]                        \n",
    "print(\"Original array:\", org_arr)\n",
    "print(\"Reversed array:\", rev_arr)"
   ]
  },
  {
   "cell_type": "code",
   "execution_count": 11,
   "id": "60fd7980",
   "metadata": {},
   "outputs": [
    {
     "name": "stdout",
     "output_type": "stream",
     "text": [
      "2D array: [[1 1 1 1 1]\n",
      " [1 1 1 1 1]\n",
      " [1 1 1 1 1]\n",
      " [1 1 1 1 1]\n",
      " [1 1 1 1 1]]\n",
      "After adding border:\n",
      " [[1 1 1 1 1]\n",
      " [1 0 0 0 1]\n",
      " [1 0 0 0 1]\n",
      " [1 0 0 0 1]\n",
      " [1 1 1 1 1]]\n"
     ]
    }
   ],
   "source": [
    "# 5. Write a Python program to create a 2d array with 1 on the border and 0 inside. \n",
    "\n",
    "array_2d  =  numpy.ones((5,5), dtype = int)      # printing 2d array\n",
    "print(\"2D array:\",array_2d)\n",
    "array_2d[1:-1, 1:-1] = 0                         # adding 1 on border and 0 inside\n",
    "print(\"After adding border:\\n\",array_2d)"
   ]
  },
  {
   "cell_type": "code",
   "execution_count": 10,
   "id": "646d8ebe",
   "metadata": {},
   "outputs": [
    {
     "name": "stdout",
     "output_type": "stream",
     "text": [
      "[[1 1 1]\n",
      " [1 1 1]\n",
      " [1 1 1]]\n"
     ]
    },
    {
     "data": {
      "text/plain": [
       "array([[0, 0, 0, 0, 0],\n",
       "       [0, 1, 1, 1, 0],\n",
       "       [0, 1, 1, 1, 0],\n",
       "       [0, 1, 1, 1, 0],\n",
       "       [0, 0, 0, 0, 0]])"
      ]
     },
     "execution_count": 10,
     "metadata": {},
     "output_type": "execute_result"
    }
   ],
   "source": [
    "# 6. Write a Python program to add a border (filled with 0's) around an existing array. \n",
    "\n",
    "array_2d  =  numpy.ones((3,3), dtype = int)\n",
    "print(array_2d)\n",
    "numpy.pad(array_2d, ((1,1),(1,1)), 'constant')   # to add border against existing array"
   ]
  },
  {
   "cell_type": "code",
   "execution_count": 12,
   "id": "76289986",
   "metadata": {},
   "outputs": [
    {
     "name": "stdout",
     "output_type": "stream",
     "text": [
      "Checker board pattern:\n",
      "0 1 0 1 0 1 0 1 \n",
      "1 0 1 0 1 0 1 0 \n",
      "0 1 0 1 0 1 0 1 \n",
      "1 0 1 0 1 0 1 0 \n",
      "0 1 0 1 0 1 0 1 \n",
      "1 0 1 0 1 0 1 0 \n",
      "0 1 0 1 0 1 0 1 \n",
      "1 0 1 0 1 0 1 0 \n"
     ]
    }
   ],
   "source": [
    "# 7. Write a Python program to create a 8x8 matrix and fill it with a checkerboard \n",
    "\n",
    "board = numpy.zeros((8, 8), dtype = int)\n",
    "board[1::2, ::2] = 1\n",
    "board[::2, 1::2] = 1                         # creating 8*8 matrix and printing checkerboard pattern\n",
    "print(\"Checker board pattern:\")\n",
    "for m in range(8):\n",
    "    for n in range(8):\n",
    "        print(board[m][n], end=\" \")\n",
    "    print()"
   ]
  },
  {
   "cell_type": "code",
   "execution_count": 16,
   "id": "9ac489c0",
   "metadata": {},
   "outputs": [
    {
     "name": "stdout",
     "output_type": "stream",
     "text": [
      "list: [1, 2, 3, 4, 5, 6]\n",
      "list to array:\n",
      "[1 2 3 4 5 6]\n",
      "tuple: ((1, 2, 3), (4, 5, 6))\n",
      "tuple to array:\n",
      "[[1 2 3]\n",
      " [4 5 6]]\n"
     ]
    }
   ],
   "source": [
    "# 8. Write a Python program to convert a list and tuple into arrays. \n",
    "\n",
    "list_ele = [1,2,3,4,5,6]\n",
    "print(\"list:\",list_ele)                                     # converting list into array\n",
    "print(\"list to array:\")\n",
    "array_list = numpy.array(list_ele)\n",
    "print(array_list)\n",
    "tuple_ele = ((1,2,3),(4,5,6))\n",
    "print(\"tuple:\",tuple_ele)                                   # converting tuple into array\n",
    "print(\"tuple to array:\")\n",
    "arr = numpy.array(tuple_ele)\n",
    "print(arr)"
   ]
  },
  {
   "cell_type": "code",
   "execution_count": 17,
   "id": "a6cf1e92",
   "metadata": {},
   "outputs": [
    {
     "name": "stdout",
     "output_type": "stream",
     "text": [
      "Original array: [10 20 30]\n",
      "After appending: [10 20 30 40 50 60 70 80]\n"
     ]
    }
   ],
   "source": [
    "# 9. Write a Python program to append values to the end of an array. \n",
    "\n",
    "org_arr = numpy.array([10,20,30])\n",
    "print(\"Original array:\", org_arr)                  \n",
    "arr = numpy.append(org_arr, [40,50,60,70,80])\n",
    "print(\"After appending:\", arr)                              # appending values at the end of array"
   ]
  },
  {
   "cell_type": "code",
   "execution_count": 18,
   "id": "552c814e",
   "metadata": {},
   "outputs": [
    {
     "name": "stdout",
     "output_type": "stream",
     "text": [
      "[1.        +0.j         0.70710678+0.70710678j]\n",
      "Real value: 1.0\n",
      "imaginary value: 0.0\n",
      "Real value: 0.70710678\n",
      "imaginary value: 0.70710678\n"
     ]
    }
   ],
   "source": [
    "# 10. Write a Python program to find the real and imaginary parts of an array of complex \n",
    "\n",
    "com_num = [1.00000000+0.j, 0.70710678+0.70710678j] \n",
    "com_arr = numpy.array(com_num)\n",
    "print(com_arr)                                   # array with complex numbers and getting real and imaginary parts\n",
    "for i in range(len(com_arr)):\n",
    "    print(\"Real value:\", com_arr[i].real)\n",
    "    print(\"imaginary value:\", com_arr[i].imag)"
   ]
  },
  {
   "cell_type": "code",
   "execution_count": 19,
   "id": "a09a5dc6",
   "metadata": {},
   "outputs": [
    {
     "name": "stdout",
     "output_type": "stream",
     "text": [
      "Size of array: 4\n",
      "size of each element in bytes: 4\n",
      "Length of array in bytes: 16\n"
     ]
    }
   ],
   "source": [
    "# 1. Write a Python program to find the number of elements of an array, length of one array element in bytes\n",
    "# and total bytes consumed by the elements.\n",
    "\n",
    "arr_list = [10,20,30,40]\n",
    "arr = numpy.array(arr_list, dtype=int)\n",
    "print(\"Size of array:\", arr.size)               \n",
    "print(\"size of each element in bytes:\", arr.itemsize)\n",
    "print(\"Length of array in bytes:\", arr.nbytes)"
   ]
  },
  {
   "cell_type": "code",
   "execution_count": 20,
   "id": "30ab865b",
   "metadata": {},
   "outputs": [
    {
     "name": "stdout",
     "output_type": "stream",
     "text": [
      "Elements same in both arrays: [10 40]\n"
     ]
    }
   ],
   "source": [
    "# 12. Write a Python program to find common values between two arrays\n",
    "\n",
    "array1 = numpy.array([10,20,30,40])\n",
    "array2 = numpy.array([10,40,60,80,90])           \n",
    "same_ele = numpy.intersect1d(array1, array2)\n",
    "print(\"Elements same in both arrays:\", same_ele)"
   ]
  },
  {
   "cell_type": "code",
   "execution_count": 21,
   "id": "4923824c",
   "metadata": {},
   "outputs": [
    {
     "name": "stdout",
     "output_type": "stream",
     "text": [
      "Elements present in array1 not in array2 are: [ 0 20 60 80]\n"
     ]
    }
   ],
   "source": [
    "# 13. Write a Python program to find the set difference of two arrays. \n",
    "# The set difference will return the sorted, unique values in array1 that are not in array2\n",
    "\n",
    "array1 = numpy.array([0,10,20,40,60,80])\n",
    "array2 = numpy.array([10,30,40,50,70,90])               \n",
    "set_diff = numpy.setdiff1d(array1, array2)\n",
    "print(\"Elements present in array1 not in array2 are:\", set_diff)"
   ]
  },
  {
   "cell_type": "code",
   "execution_count": 22,
   "id": "cd21f478",
   "metadata": {},
   "outputs": [
    {
     "name": "stdout",
     "output_type": "stream",
     "text": [
      "uniques values present in both arrays are: [ 0 20 30 50 60 70 80]\n"
     ]
    }
   ],
   "source": [
    "# 14. Write a Python program to find the set exclusive-or of two arrays. \n",
    "# Set exclusive-or will return the sorted, unique values that are in only one (not both) of the \n",
    "\n",
    "arr1 = numpy.array([0,10,20,40,60,80])\n",
    "arr2 = numpy.array([10,30,40,50,70])                    \n",
    "unique_val = numpy.setxor1d(arr1, arr2)\n",
    "print(\"uniques values present in both arrays are:\", unique_val)"
   ]
  },
  {
   "cell_type": "code",
   "execution_count": 24,
   "id": "6c2cb1a2",
   "metadata": {},
   "outputs": [
    {
     "name": "stdout",
     "output_type": "stream",
     "text": [
      "[1 2 3]\n",
      "[4 5 6]\n",
      "False\n",
      "arr1 > arr2:\n",
      "[False False False]\n",
      "arr1 >= arr2:\n",
      "[False False False]\n",
      "arr1 < arr2:\n",
      "[ True  True  True]\n",
      "arr1 <= arr2:\n",
      "[ True  True  True]\n"
     ]
    }
   ],
   "source": [
    "# 15. Write a Python program compare two arrays using numpy. \n",
    "\n",
    "\n",
    "arr1 = numpy.array([1,2,3])\n",
    "arr2 = numpy.array([4,5,6])                     # checking equality of two errors if size, elements both sare same\n",
    "equal = numpy.array_equal(arr1, arr2)           # returns true else returns false\n",
    "print(arr1)\n",
    "print(arr2)\n",
    "print(equal)                                        \n",
    "print(\"arr1 > arr2:\")                           # prints true if element in array1 is greater than array2 else prints false\n",
    "print(numpy.greater(arr1, arr2))\n",
    "print(\"arr1 >= arr2:\")\n",
    "print(numpy.greater_equal(arr1, arr2))          # prints true if ele in first array is greater or equal to ele in 2nd array\n",
    "print(\"arr1 < arr2:\")\n",
    "print(numpy.less(arr1, arr2))                   # prints true for element is less than ele in second array\n",
    "print(\"arr1 <= arr2:\")                          # prints true for element is less than or equal to ele in second array\n",
    "print(numpy.less_equal(arr1, arr2))   "
   ]
  },
  {
   "cell_type": "code",
   "execution_count": 25,
   "id": "f0acb92a",
   "metadata": {},
   "outputs": [
    {
     "name": "stdout",
     "output_type": "stream",
     "text": [
      "[10 20 30 40 50 60]\n",
      "Content in text file: [10 20 30 40 50 60]\n"
     ]
    }
   ],
   "source": [
    "# 16. Write a Python program to save a NumPy array to a text file.\n",
    "\n",
    "list = [10,20,30,40,50,60]\n",
    "arr = numpy.array(list)\n",
    "print(arr)\n",
    "file = open(\"file.txt\", \"w+\")              # saving numpy array to text file\n",
    "content = str(arr)\n",
    "file.write(content)\n",
    "file.close()\n",
    "file = open(\"file.txt\",\"r\")               # displaying content in text file\n",
    "content = file.read()\n",
    "print(\"Content in text file:\",content)"
   ]
  },
  {
   "cell_type": "code",
   "execution_count": 6,
   "id": "23973d07",
   "metadata": {},
   "outputs": [
    {
     "name": "stdout",
     "output_type": "stream",
     "text": [
      "[1 2 3 4 5]\n",
      "Content in text file: [1. 2. 3. 4. 5.]\n"
     ]
    }
   ],
   "source": [
    "\n",
    "list1 = [1,2,3,4,5]\n",
    "arr_list = numpy.array(list1)                # writing into text file using numpy functions\n",
    "print(arr_list)\n",
    "numpy.savetxt(\"file1.txt\", arr_list,fmt='%s')\n",
    "content = numpy.loadtxt('file1.txt')        # displaying the text file content\n",
    "print(\"Content in text file:\",content) "
   ]
  },
  {
   "cell_type": "code",
   "execution_count": 27,
   "id": "2ee9b282",
   "metadata": {},
   "outputs": [
    {
     "name": "stdout",
     "output_type": "stream",
     "text": [
      "[[1 2 3]\n",
      " [4 5 6]]\n",
      "Flattened array: [1 2 3 4 5 6]\n"
     ]
    }
   ],
   "source": [
    "# 17.  Write a Python program to create a contiguous flattened array. \n",
    "\n",
    "list_ele = [[1,2,3],[4,5,6]]\n",
    "arr = numpy.array(list_ele)              # displaying normal array\n",
    "print(arr)\n",
    "flattened_arr = numpy.ravel(arr)         # coverting to contiguous flattened array\n",
    "print(\"Flattened array:\", flattened_arr)"
   ]
  },
  {
   "cell_type": "code",
   "execution_count": 28,
   "id": "ef2e4112",
   "metadata": {},
   "outputs": [
    {
     "name": "stdout",
     "output_type": "stream",
     "text": [
      "[1 2 3 4]\n",
      "int32\n",
      "[1. 2. 3. 4.]\n",
      "New array type: float64\n"
     ]
    }
   ],
   "source": [
    "#18.  Write a Python program to change the data type of an array. \n",
    "\n",
    "arr = numpy.array([1,2,3,4])\n",
    "print(arr)                              # displaying type of array\n",
    "print(arr.dtype)\n",
    "new_arr = arr.astype(numpy.float64)\n",
    "print(new_arr)                          # changing int type to float\n",
    "print(\"New array type:\",new_arr.dtype)"
   ]
  },
  {
   "cell_type": "code",
   "execution_count": 29,
   "id": "2b10b8c9",
   "metadata": {},
   "outputs": [
    {
     "name": "stdout",
     "output_type": "stream",
     "text": [
      "[[1 0 0]\n",
      " [0 1 0]\n",
      " [0 0 1]]\n"
     ]
    }
   ],
   "source": [
    "#19. Write a Python program to create a 3-D array with ones on a diagonal and zeros elsewhere. \n",
    "\n",
    "array_3d = numpy.zeros((3,3), dtype = int)\n",
    "numpy.fill_diagonal(array_3d, 1)           # creating 3 d array with 1's on diagnol and zeros else where\n",
    "print(array_3d)"
   ]
  },
  {
   "cell_type": "code",
   "execution_count": 11,
   "id": "dfe7a422",
   "metadata": {},
   "outputs": [
    {
     "name": "stdout",
     "output_type": "stream",
     "text": [
      "[[0 0 0]\n",
      " [1 0 0]\n",
      " [1 1 0]\n",
      " [1 1 1]]\n"
     ]
    }
   ],
   "source": [
    "#20. program to print array in below format...\n",
    "# [[0.0.0]\n",
    "# [1.0.0] \n",
    "# [1.1.0]\n",
    "# [1.1.1]]\n",
    "\n",
    "array = numpy.zeros((4,3), dtype = int)    \n",
    "for i in range(0, len(array)):\n",
    "    array[i+1::1, i::-2] = 1\n",
    "# array[1::1, 0::-2] = 1                      \n",
    "# array[2::1, 1::-2] = 1                      \n",
    "# array[3::1, 2::-2] = 1                      \n",
    "print(array)                              "
   ]
  },
  {
   "cell_type": "code",
   "execution_count": 11,
   "id": "95fcffac",
   "metadata": {},
   "outputs": [
    {
     "name": "stdout",
     "output_type": "stream",
     "text": [
      "array 1\n",
      ": [[1 2 3]\n",
      " [4 5 6]]\n",
      "array 2:\n",
      " [[ 7  8  9]\n",
      " [10 11 12]]\n",
      "[[ 1  2  3  7  8  9]\n",
      " [ 4  5  6 10 11 12]]\n"
     ]
    }
   ],
   "source": [
    "#21. Write a Python program to concatenate two 2-dimensional arrays. \n",
    "\n",
    "arr1 = numpy.array([[1,2,3],[4,5,6]])\n",
    "arr2 = numpy.array([[7,8,9],[10,11,12]])     #  program to concatenate two 2-dimensional arrays. \n",
    "print(\"array 1\\n:\",arr1)\n",
    "print(\"array 2:\\n\",arr2)\n",
    "arr3 = numpy.concatenate((arr1,arr2), axis = 1)\n",
    "print(arr3)"
   ]
  },
  {
   "cell_type": "code",
   "execution_count": 12,
   "id": "da7c2f49",
   "metadata": {},
   "outputs": [
    {
     "ename": "ValueError",
     "evalue": "assignment destination is read-only",
     "output_type": "error",
     "traceback": [
      "\u001b[1;31m---------------------------------------------------------------------------\u001b[0m",
      "\u001b[1;31mValueError\u001b[0m                                Traceback (most recent call last)",
      "\u001b[1;32mC:\\Users\\MYPC~1\\AppData\\Local\\Temp/ipykernel_880/3888765265.py\u001b[0m in \u001b[0;36m<module>\u001b[1;34m\u001b[0m\n\u001b[0;32m      1\u001b[0m \u001b[0marr\u001b[0m \u001b[1;33m=\u001b[0m \u001b[0mnumpy\u001b[0m\u001b[1;33m.\u001b[0m\u001b[0marange\u001b[0m\u001b[1;33m(\u001b[0m\u001b[1;36m10\u001b[0m\u001b[1;33m)\u001b[0m\u001b[1;33m\u001b[0m\u001b[1;33m\u001b[0m\u001b[0m\n\u001b[0;32m      2\u001b[0m \u001b[0marr\u001b[0m\u001b[1;33m.\u001b[0m\u001b[0mflags\u001b[0m\u001b[1;33m.\u001b[0m\u001b[0mwriteable\u001b[0m \u001b[1;33m=\u001b[0m \u001b[1;32mFalse\u001b[0m\u001b[1;33m\u001b[0m\u001b[1;33m\u001b[0m\u001b[0m\n\u001b[1;32m----> 3\u001b[1;33m \u001b[0marr\u001b[0m\u001b[1;33m[\u001b[0m\u001b[1;36m0\u001b[0m\u001b[1;33m]\u001b[0m \u001b[1;33m=\u001b[0m \u001b[1;36m1\u001b[0m\u001b[1;33m\u001b[0m\u001b[1;33m\u001b[0m\u001b[0m\n\u001b[0m",
      "\u001b[1;31mValueError\u001b[0m: assignment destination is read-only"
     ]
    }
   ],
   "source": [
    "#22. Write a Python program to make an array immutable (read-only). \n",
    "\n",
    "arr = numpy.arange(10)                   \n",
    "arr.flags.writeable = False\n",
    "arr[0] = 1"
   ]
  },
  {
   "cell_type": "code",
   "execution_count": 18,
   "id": "cc617df8",
   "metadata": {},
   "outputs": [
    {
     "name": "stdout",
     "output_type": "stream",
     "text": [
      "original array elements:\n",
      " [[ 0  1  2  3]\n",
      " [ 4  5  6  7]\n",
      " [ 8  9 10 11]]\n",
      "New array elements are:\n",
      "[0 3 6 9]\n",
      "[12 15 18 21]\n",
      "[24 27 30 33]\n"
     ]
    }
   ],
   "source": [
    "#23. Write a Python program to create an array of (3, 4) shape, multiply every element value by 3 and display the new array. \n",
    "\n",
    "arr = numpy.arange(0, 12).reshape(3,4)\n",
    "print(\"original array elements:\\n\",arr)        \n",
    "print(\"New array elements are:\")\n",
    "for i in range(len(arr)):\n",
    "    print(arr[i] * 3)"
   ]
  },
  {
   "cell_type": "code",
   "execution_count": 20,
   "id": "755f1796",
   "metadata": {},
   "outputs": [
    {
     "name": "stdout",
     "output_type": "stream",
     "text": [
      "[[0 1]\n",
      " [2 3]\n",
      " [4 5]]\n",
      "<class 'numpy.ndarray'>\n",
      "[[0, 1], [2, 3], [4, 5]]\n",
      "<class 'list'>\n"
     ]
    }
   ],
   "source": [
    "#24. Write a Python program to convert a NumPy array into Python list structure.\n",
    "\n",
    "arr = numpy.array([[0,1],[2,3],[4,5]])\n",
    "print(arr)\n",
    "print(type(arr))                              \n",
    "lis = arr.tolist()\n",
    "print(lis)\n",
    "print(type(lis))"
   ]
  },
  {
   "cell_type": "code",
   "execution_count": 24,
   "id": "bfa83803",
   "metadata": {},
   "outputs": [
    {
     "name": "stdout",
     "output_type": "stream",
     "text": [
      "[0.262 0.528 0.572 0.593 0.783 0.697 0.354 0.995 0.069 0.547]\n"
     ]
    }
   ],
   "source": [
    "#25.  Write a Python program to convert a NumPy array into Python list structure. \n",
    "\n",
    "numpy.set_printoptions(precision=3)\n",
    "arr_ele = numpy.array([0.26153123,0.52760141,0.5718299,0.5927067,0.7831874,0.69746349,0.35399976,0.99469633,0.0694458,0.54711478])\n",
    "print(arr_ele)"
   ]
  },
  {
   "cell_type": "code",
   "execution_count": 26,
   "id": "30b05e60",
   "metadata": {},
   "outputs": [
    {
     "name": "stdout",
     "output_type": "stream",
     "text": [
      "[   0.       1.6   1200.       0.235]\n"
     ]
    }
   ],
   "source": [
    "#26. Write a Python program to suppresses the use of scientific notation for small numbers in numpy array.\n",
    "\n",
    "arr = numpy.array([ 1.60000000e-10,1.60000000e+00,1.20000000e+03,2.35000000e-01])\n",
    "numpy.set_printoptions(suppress = True)\n",
    "print(arr)"
   ]
  },
  {
   "cell_type": "code",
   "execution_count": 37,
   "id": "69779c38",
   "metadata": {},
   "outputs": [
    {
     "name": "stdout",
     "output_type": "stream",
     "text": [
      "[[10 20 30]\n",
      " [40 50 60]]\n",
      "After adding new column:\n",
      " [[ 10  20  30 100]\n",
      " [ 40  50  60 200]]\n"
     ]
    }
   ],
   "source": [
    "#27. Write a Python program to how to add an extra column to an numpy array. \n",
    "\n",
    "org_arr = numpy.array([[10,20,30],[40,50,60]])\n",
    "print(org_arr)\n",
    "new_column = numpy.array([100, 200])            # to add new column to existing array\n",
    "arr = numpy.column_stack((org_arr, new_column))\n",
    "print(\"After adding new column:\\n\",arr)"
   ]
  },
  {
   "cell_type": "code",
   "execution_count": 41,
   "id": "6b1f5fbd",
   "metadata": {},
   "outputs": [
    {
     "name": "stdout",
     "output_type": "stream",
     "text": [
      "original array before deletion: [ 10  20  30  40  50  60  70  80  90 100]\n",
      "array after deleting at 1,4,5: [ 10  30  40  70  80  90 100]\n"
     ]
    }
   ],
   "source": [
    "#28. Write a Python program to remove specific elements in a numpy array. \n",
    "\n",
    "arr = numpy.array([10,20,30,40,50,60,70,80,90,100])\n",
    "print(\"original array before deletion:\",arr)\n",
    "index_to_be_del = [1,4,5]\n",
    "new_arr = numpy.delete(arr,index_to_be_del) \n",
    "print(\"array after deleting at 1,4,5:\",new_arr)"
   ]
  },
  {
   "cell_type": "code",
   "execution_count": null,
   "id": "23b922fe",
   "metadata": {},
   "outputs": [],
   "source": []
  }
 ],
 "metadata": {
  "kernelspec": {
   "display_name": "Python 3 (ipykernel)",
   "language": "python",
   "name": "python3"
  },
  "language_info": {
   "codemirror_mode": {
    "name": "ipython",
    "version": 3
   },
   "file_extension": ".py",
   "mimetype": "text/x-python",
   "name": "python",
   "nbconvert_exporter": "python",
   "pygments_lexer": "ipython3",
   "version": "3.9.7"
  }
 },
 "nbformat": 4,
 "nbformat_minor": 5
}
